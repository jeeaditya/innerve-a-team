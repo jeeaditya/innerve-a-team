{
  "nbformat": 4,
  "nbformat_minor": 0,
  "metadata": {
    "colab": {
      "name": "Medicine Database.ipynb",
      "provenance": []
    },
    "kernelspec": {
      "name": "python3",
      "display_name": "Python 3"
    }
  },
  "cells": [
    {
      "cell_type": "code",
      "metadata": {
        "id": "5YjW2Ojcp_sd"
      },
      "source": [
        "import requests\n",
        "from bs4 import BeautifulSoup\n",
        "import pandas as pd\n",
        "import numpy as np\n",
        "import regex\n",
        "import string"
      ],
      "execution_count": 1,
      "outputs": []
    },
    {
      "cell_type": "code",
      "metadata": {
        "id": "7gMv6jtXqT26"
      },
      "source": [
        "med_list = pd.read_csv('Medicine Database.csv')"
      ],
      "execution_count": 2,
      "outputs": []
    },
    {
      "cell_type": "code",
      "metadata": {
        "id": "G0ffkToXqr9U"
      },
      "source": [
        ""
      ],
      "execution_count": 2,
      "outputs": []
    },
    {
      "cell_type": "code",
      "metadata": {
        "id": "GY0OjHSSfbVf"
      },
      "source": [
        "def get_details(med_list):\n",
        "\n",
        "  medicine_url = med_list['Medicine URL']\n",
        "  medicine_name = med_list['Product name']\n",
        "  category = med_list['Category']\n",
        "  composition = []    # empty list to store composition of all medicines\n",
        "  manufacturer = []   # empty list to store manufacturer\n",
        "  mrp = []            # empty list to store final price\n",
        "  side_effects = []   # empty list to store side_effects\n",
        "  uses = []           # empty list to store uses\n",
        "  for url in medicine_url:\n",
        "    response1 = requests.get(url)\n",
        "    soup = BeautifulSoup(response1.text, 'html.parser')\n",
        "\n",
        "    t2 = soup.find('div', {'class': 'product-detail'})\n",
        "    if t2 is None:\n",
        "      info = 'Data Not Found'\n",
        "    else:\n",
        "      info = (t2.text).strip().split('  ')\n",
        "\n",
        "    t3 = soup.find('div', {'class': 'drug-con pull-left'})\n",
        "    if t3 is None:\n",
        "      info2 = 'Data Not Found'\n",
        "    else:\n",
        "      info2 = (t3.text).strip().split('  ')\n",
        "\n",
        "    t4 = soup.find('span', {'class': 'final-price'})\n",
        "    if t4 is None:\n",
        "      info3 = '0'\n",
        "    else:\n",
        "      info3 = ((t4.text.split(':')[-1]).strip())[3:]\n",
        "\n",
        "    composition.append((info[-1]).strip())\n",
        "    manufacturer.append((info2[-2][5:]).strip())\n",
        "    mrp.append(info3)\n",
        "\n",
        "    use = soup.find('div', {'id':'np_tab1'})\n",
        "    uses_ = []\n",
        "    if use is None:\n",
        "      uses_='Data Not Found'\n",
        "    else:\n",
        "      use = use.find_all('li')\n",
        "      for u in use:\n",
        "        uses_.append(u.text)\n",
        "      uses_ = ', '.join(uses_)\n",
        "\n",
        "    uses.append(uses_)\n",
        "\n",
        "    se = soup.find('div', {'id':'np_tab5'})\n",
        "    side_effects_ = []\n",
        "    if se is None:\n",
        "      side_effects_='Data Not Found'\n",
        "    else:\n",
        "      se = se.find('div', {'class':'subinner-cont active'})\n",
        "      if se is None:\n",
        "        side_effects_='Data Not Found'\n",
        "      else:\n",
        "        se = se.find_all('li')\n",
        "        for s in se:\n",
        "          side_effects_.append(s.text)\n",
        "        side_effects_ = ', '.join(side_effects_)\n",
        "      \n",
        "\n",
        "    side_effects.append(side_effects_)\n",
        "    \n",
        "\n",
        "  med = pd.DataFrame()\n",
        "  med['Medicine URL'] = medicine_url\n",
        "  med['Medicine Name'] = medicine_name\n",
        "  med['Category'] = category\n",
        "  med['Composition'] = composition\n",
        "  med['Manufacturer'] = manufacturer\n",
        "  med['MRP'] = mrp\n",
        "  med['Uses'] = uses\n",
        "  med['Side Effects'] = side_effects\n",
        "  return med"
      ],
      "execution_count": 21,
      "outputs": []
    },
    {
      "cell_type": "code",
      "metadata": {
        "id": "HD-rEG6Sq1Iz"
      },
      "source": [
        "x = get_details(med_list.iloc[0:100])"
      ],
      "execution_count": 22,
      "outputs": []
    },
    {
      "cell_type": "code",
      "metadata": {
        "id": "565A8tP0q9kq",
        "outputId": "b6b3d4c6-103d-4553-faaa-6d07cb163b4c",
        "colab": {
          "base_uri": "https://localhost:8080/",
          "height": 822
        }
      },
      "source": [
        "x"
      ],
      "execution_count": 23,
      "outputs": [
        {
          "output_type": "execute_result",
          "data": {
            "text/html": [
              "<div>\n",
              "<style scoped>\n",
              "    .dataframe tbody tr th:only-of-type {\n",
              "        vertical-align: middle;\n",
              "    }\n",
              "\n",
              "    .dataframe tbody tr th {\n",
              "        vertical-align: top;\n",
              "    }\n",
              "\n",
              "    .dataframe thead th {\n",
              "        text-align: right;\n",
              "    }\n",
              "</style>\n",
              "<table border=\"1\" class=\"dataframe\">\n",
              "  <thead>\n",
              "    <tr style=\"text-align: right;\">\n",
              "      <th></th>\n",
              "      <th>Medicine URL</th>\n",
              "      <th>Medicine Name</th>\n",
              "      <th>Category</th>\n",
              "      <th>Composition</th>\n",
              "      <th>Manufacturer</th>\n",
              "      <th>MRP</th>\n",
              "      <th>Uses</th>\n",
              "      <th>Side Effects</th>\n",
              "    </tr>\n",
              "  </thead>\n",
              "  <tbody>\n",
              "    <tr>\n",
              "      <th>0</th>\n",
              "      <td>https://www.netmeds.com/prescriptions/atrest-1...</td>\n",
              "      <td>Atrest 12.5mg Tablet 10'S</td>\n",
              "      <td>ADHD</td>\n",
              "      <td>TETRABENAZINE 12.5MG</td>\n",
              "      <td>Centaur Pharmaceuticals Pvt Ltd</td>\n",
              "      <td>146.01</td>\n",
              "      <td>ATREST 12.5MG is used in the treatment of the ...</td>\n",
              "      <td>depression, suicidal thoughts or actions, neur...</td>\n",
              "    </tr>\n",
              "    <tr>\n",
              "      <th>1</th>\n",
              "      <td>https://www.netmeds.com/prescriptions/atrest-2...</td>\n",
              "      <td>Atrest 25mg Tablet 10'S</td>\n",
              "      <td>ADHD</td>\n",
              "      <td>TETRABENAZINE 25MG</td>\n",
              "      <td>Centaur Pharmaceuticals Pvt Ltd</td>\n",
              "      <td>261.49</td>\n",
              "      <td>ATREST 25MG is used in the treatment of the in...</td>\n",
              "      <td>depression, suicidal thoughts or actions, neur...</td>\n",
              "    </tr>\n",
              "    <tr>\n",
              "      <th>2</th>\n",
              "      <td>https://www.netmeds.com/prescriptions/capnea-i...</td>\n",
              "      <td>Capnea Injection 1ml</td>\n",
              "      <td>ADHD</td>\n",
              "      <td>Caffeine Citrate 20 MG</td>\n",
              "      <td>Cipla Ltd</td>\n",
              "      <td>272.25</td>\n",
              "      <td>It is used in the treatment of interrupted bre...</td>\n",
              "      <td>serious intestinal disease with bloody stools ...</td>\n",
              "    </tr>\n",
              "    <tr>\n",
              "      <th>3</th>\n",
              "      <td>https://www.netmeds.com/prescriptions/cognix-1...</td>\n",
              "      <td>COGNIX 120mg Tablet 10's</td>\n",
              "      <td>ADHD</td>\n",
              "      <td>GINKGO BILOBA 120 mg</td>\n",
              "      <td>Eris Lifesciences Ltd</td>\n",
              "      <td>128.70</td>\n",
              "      <td>Data Not Found</td>\n",
              "      <td>Data Not Found</td>\n",
              "    </tr>\n",
              "    <tr>\n",
              "      <th>4</th>\n",
              "      <td>https://www.netmeds.com/prescriptions/a-cn-gel...</td>\n",
              "      <td>A CN Gel(Topical) 20gm</td>\n",
              "      <td>Acne</td>\n",
              "      <td>CLINDAMYCIN 1%+NICOTINAMIDE 4%</td>\n",
              "      <td>Eskon Pharma</td>\n",
              "      <td>135.00</td>\n",
              "      <td>mild to moderate acne (spots)</td>\n",
              "      <td>dry skin, redness of the skin, skin burning or...</td>\n",
              "    </tr>\n",
              "    <tr>\n",
              "      <th>...</th>\n",
              "      <td>...</td>\n",
              "      <td>...</td>\n",
              "      <td>...</td>\n",
              "      <td>...</td>\n",
              "      <td>...</td>\n",
              "      <td>...</td>\n",
              "      <td>...</td>\n",
              "      <td>...</td>\n",
              "    </tr>\n",
              "    <tr>\n",
              "      <th>95</th>\n",
              "      <td>https://www.netmeds.com/prescriptions/clindasi...</td>\n",
              "      <td>CLINDASIL A Gel 15gm</td>\n",
              "      <td>Acne</td>\n",
              "      <td>ADAPALENE 0.1 %+CLINDAMYCIN 1 %</td>\n",
              "      <td>Scott-Edil Pharmacia Ltd</td>\n",
              "      <td>135.00</td>\n",
              "      <td>Data Not Found</td>\n",
              "      <td>Data Not Found</td>\n",
              "    </tr>\n",
              "    <tr>\n",
              "      <th>96</th>\n",
              "      <td>https://www.netmeds.com/prescriptions/clindasu...</td>\n",
              "      <td>Clindasure 150mg Capsule 10'S</td>\n",
              "      <td>Acne</td>\n",
              "      <td>CLINDAMYCIN 150MG</td>\n",
              "      <td>Macleods Pharmaceuticals Pvt Ltd</td>\n",
              "      <td>135.20</td>\n",
              "      <td>It is used in the treatment of severe bacteria...</td>\n",
              "      <td>persistent or bloody diarrhoea (which may be a...</td>\n",
              "    </tr>\n",
              "    <tr>\n",
              "      <th>97</th>\n",
              "      <td>https://www.netmeds.com/prescriptions/clindato...</td>\n",
              "      <td>CLINDATOP GOLD Gel 20gm</td>\n",
              "      <td>Acne</td>\n",
              "      <td>CLINDAMYCIN 1 %+NICOTINAMIDE 4 %</td>\n",
              "      <td>GOLDEN ASTER PHARMA INC</td>\n",
              "      <td>70.00</td>\n",
              "      <td>Data Not Found</td>\n",
              "      <td>Data Not Found</td>\n",
              "    </tr>\n",
              "    <tr>\n",
              "      <th>98</th>\n",
              "      <td>https://www.netmeds.com/prescriptions/clindot-...</td>\n",
              "      <td>CLINDOT N Gel 20gm</td>\n",
              "      <td>Acne</td>\n",
              "      <td>CLINDAMYCIN 1 %+NICOTINAMIDE 4 %</td>\n",
              "      <td>Brinton Pharmaceuticals Ltd</td>\n",
              "      <td>187.00</td>\n",
              "      <td>Data Not Found</td>\n",
              "      <td>Data Not Found</td>\n",
              "    </tr>\n",
              "    <tr>\n",
              "      <th>99</th>\n",
              "      <td>https://www.netmeds.com/prescriptions/clindoxy...</td>\n",
              "      <td>Clindoxyl Gel 15gm</td>\n",
              "      <td>Acne</td>\n",
              "      <td>BENZOYL PEROXIDE 5%W/W+CLINDAMYCIN 1%W/W</td>\n",
              "      <td>Glaxosmithkline Pharmaceuticals Ltd</td>\n",
              "      <td>494.75</td>\n",
              "      <td>Data Not Found</td>\n",
              "      <td>Data Not Found</td>\n",
              "    </tr>\n",
              "  </tbody>\n",
              "</table>\n",
              "<p>100 rows × 8 columns</p>\n",
              "</div>"
            ],
            "text/plain": [
              "                                         Medicine URL  ...                                       Side Effects\n",
              "0   https://www.netmeds.com/prescriptions/atrest-1...  ...  depression, suicidal thoughts or actions, neur...\n",
              "1   https://www.netmeds.com/prescriptions/atrest-2...  ...  depression, suicidal thoughts or actions, neur...\n",
              "2   https://www.netmeds.com/prescriptions/capnea-i...  ...  serious intestinal disease with bloody stools ...\n",
              "3   https://www.netmeds.com/prescriptions/cognix-1...  ...                                     Data Not Found\n",
              "4   https://www.netmeds.com/prescriptions/a-cn-gel...  ...  dry skin, redness of the skin, skin burning or...\n",
              "..                                                ...  ...                                                ...\n",
              "95  https://www.netmeds.com/prescriptions/clindasi...  ...                                     Data Not Found\n",
              "96  https://www.netmeds.com/prescriptions/clindasu...  ...  persistent or bloody diarrhoea (which may be a...\n",
              "97  https://www.netmeds.com/prescriptions/clindato...  ...                                     Data Not Found\n",
              "98  https://www.netmeds.com/prescriptions/clindot-...  ...                                     Data Not Found\n",
              "99  https://www.netmeds.com/prescriptions/clindoxy...  ...                                     Data Not Found\n",
              "\n",
              "[100 rows x 8 columns]"
            ]
          },
          "metadata": {
            "tags": []
          },
          "execution_count": 23
        }
      ]
    },
    {
      "cell_type": "code",
      "metadata": {
        "id": "H4HM1izzq_Vp"
      },
      "source": [
        "medicine_database_detailed = get_details(med_list)"
      ],
      "execution_count": 25,
      "outputs": []
    },
    {
      "cell_type": "code",
      "metadata": {
        "id": "Wk7ucIgJsIt-"
      },
      "source": [
        "medicine_database_detailed.to_csv('medicine_database_detailed.csv')"
      ],
      "execution_count": 26,
      "outputs": []
    },
    {
      "cell_type": "code",
      "metadata": {
        "id": "R_nRvNnUsRTb",
        "outputId": "caf76e80-99c1-402f-a91d-838e8240d071",
        "colab": {
          "base_uri": "https://localhost:8080/",
          "height": 17
        }
      },
      "source": [
        "from google.colab import files\n",
        "files.download('medicine_database_detailed.csv')"
      ],
      "execution_count": 27,
      "outputs": [
        {
          "output_type": "display_data",
          "data": {
            "application/javascript": [
              "\n",
              "    async function download(id, filename, size) {\n",
              "      if (!google.colab.kernel.accessAllowed) {\n",
              "        return;\n",
              "      }\n",
              "      const div = document.createElement('div');\n",
              "      const label = document.createElement('label');\n",
              "      label.textContent = `Downloading \"${filename}\": `;\n",
              "      div.appendChild(label);\n",
              "      const progress = document.createElement('progress');\n",
              "      progress.max = size;\n",
              "      div.appendChild(progress);\n",
              "      document.body.appendChild(div);\n",
              "\n",
              "      const buffers = [];\n",
              "      let downloaded = 0;\n",
              "\n",
              "      const channel = await google.colab.kernel.comms.open(id);\n",
              "      // Send a message to notify the kernel that we're ready.\n",
              "      channel.send({})\n",
              "\n",
              "      for await (const message of channel.messages) {\n",
              "        // Send a message to notify the kernel that we're ready.\n",
              "        channel.send({})\n",
              "        if (message.buffers) {\n",
              "          for (const buffer of message.buffers) {\n",
              "            buffers.push(buffer);\n",
              "            downloaded += buffer.byteLength;\n",
              "            progress.value = downloaded;\n",
              "          }\n",
              "        }\n",
              "      }\n",
              "      const blob = new Blob(buffers, {type: 'application/binary'});\n",
              "      const a = document.createElement('a');\n",
              "      a.href = window.URL.createObjectURL(blob);\n",
              "      a.download = filename;\n",
              "      div.appendChild(a);\n",
              "      a.click();\n",
              "      div.remove();\n",
              "    }\n",
              "  "
            ],
            "text/plain": [
              "<IPython.core.display.Javascript object>"
            ]
          },
          "metadata": {
            "tags": []
          }
        },
        {
          "output_type": "display_data",
          "data": {
            "application/javascript": [
              "download(\"download_16899d5f-45e0-4cd2-97fb-73ae7f84b8f4\", \"medicine_database_detailed.csv\", 10666098)"
            ],
            "text/plain": [
              "<IPython.core.display.Javascript object>"
            ]
          },
          "metadata": {
            "tags": []
          }
        }
      ]
    },
    {
      "cell_type": "code",
      "metadata": {
        "id": "6RDKF-pzu6_z",
        "outputId": "911a0772-a933-4a3e-cf45-f3f1bc52a588",
        "colab": {
          "base_uri": "https://localhost:8080/",
          "height": 872
        }
      },
      "source": [
        "df = pd.read_csv('medicine_database_detailed.csv', engine='python', index_col =0)\n",
        "df "
      ],
      "execution_count": 19,
      "outputs": [
        {
          "output_type": "execute_result",
          "data": {
            "text/html": [
              "<div>\n",
              "<style scoped>\n",
              "    .dataframe tbody tr th:only-of-type {\n",
              "        vertical-align: middle;\n",
              "    }\n",
              "\n",
              "    .dataframe tbody tr th {\n",
              "        vertical-align: top;\n",
              "    }\n",
              "\n",
              "    .dataframe thead th {\n",
              "        text-align: right;\n",
              "    }\n",
              "</style>\n",
              "<table border=\"1\" class=\"dataframe\">\n",
              "  <thead>\n",
              "    <tr style=\"text-align: right;\">\n",
              "      <th></th>\n",
              "      <th>Medicine URL</th>\n",
              "      <th>Medicine Name</th>\n",
              "      <th>Category</th>\n",
              "      <th>Composition</th>\n",
              "      <th>Manufacturer</th>\n",
              "      <th>MRP</th>\n",
              "      <th>Uses</th>\n",
              "      <th>Side Effects</th>\n",
              "    </tr>\n",
              "  </thead>\n",
              "  <tbody>\n",
              "    <tr>\n",
              "      <th>0</th>\n",
              "      <td>https://www.netmeds.com/prescriptions/atrest-1...</td>\n",
              "      <td>Atrest 12.5mg Tablet 10'S</td>\n",
              "      <td>ADHD</td>\n",
              "      <td>TETRABENAZINE 12.5MG</td>\n",
              "      <td>Centaur Pharmaceuticals Pvt Ltd</td>\n",
              "      <td>146.01</td>\n",
              "      <td>ATREST 12.5MG is used in the treatment of the ...</td>\n",
              "      <td>depression, suicidal thoughts or actions, neur...</td>\n",
              "    </tr>\n",
              "    <tr>\n",
              "      <th>1</th>\n",
              "      <td>https://www.netmeds.com/prescriptions/atrest-2...</td>\n",
              "      <td>Atrest 25mg Tablet 10'S</td>\n",
              "      <td>ADHD</td>\n",
              "      <td>TETRABENAZINE 25MG</td>\n",
              "      <td>Centaur Pharmaceuticals Pvt Ltd</td>\n",
              "      <td>261.49</td>\n",
              "      <td>ATREST 25MG is used in the treatment of the in...</td>\n",
              "      <td>depression, suicidal thoughts or actions, neur...</td>\n",
              "    </tr>\n",
              "    <tr>\n",
              "      <th>2</th>\n",
              "      <td>https://www.netmeds.com/prescriptions/capnea-i...</td>\n",
              "      <td>Capnea Injection 1ml</td>\n",
              "      <td>ADHD</td>\n",
              "      <td>Caffeine Citrate 20 MG</td>\n",
              "      <td>Cipla Ltd</td>\n",
              "      <td>272.25</td>\n",
              "      <td>It is used in the treatment of interrupted bre...</td>\n",
              "      <td>serious intestinal disease with bloody stools ...</td>\n",
              "    </tr>\n",
              "    <tr>\n",
              "      <th>3</th>\n",
              "      <td>https://www.netmeds.com/prescriptions/cognix-1...</td>\n",
              "      <td>COGNIX 120mg Tablet 10's</td>\n",
              "      <td>ADHD</td>\n",
              "      <td>GINKGO BILOBA 120 mg</td>\n",
              "      <td>Eris Lifesciences Ltd</td>\n",
              "      <td>128.70</td>\n",
              "      <td>Data Not Found</td>\n",
              "      <td>Data Not Found</td>\n",
              "    </tr>\n",
              "    <tr>\n",
              "      <th>4</th>\n",
              "      <td>https://www.netmeds.com/prescriptions/a-cn-gel...</td>\n",
              "      <td>A CN Gel(Topical) 20gm</td>\n",
              "      <td>Acne</td>\n",
              "      <td>CLINDAMYCIN 1%+NICOTINAMIDE 4%</td>\n",
              "      <td>Eskon Pharma</td>\n",
              "      <td>135.00</td>\n",
              "      <td>mild to moderate acne (spots)</td>\n",
              "      <td>dry skin, redness of the skin, skin burning or...</td>\n",
              "    </tr>\n",
              "    <tr>\n",
              "      <th>...</th>\n",
              "      <td>...</td>\n",
              "      <td>...</td>\n",
              "      <td>...</td>\n",
              "      <td>...</td>\n",
              "      <td>...</td>\n",
              "      <td>...</td>\n",
              "      <td>...</td>\n",
              "      <td>...</td>\n",
              "    </tr>\n",
              "    <tr>\n",
              "      <th>23561</th>\n",
              "      <td>https://www.netmeds.com/prescriptions/wound-fi...</td>\n",
              "      <td>Wound Fix Solution 100ml</td>\n",
              "      <td>Wound</td>\n",
              "      <td>HYPOCHLOROUS ACID 0.006%+OXIDIZED WATER 99.97%</td>\n",
              "      <td>Strides Shasun Ltd</td>\n",
              "      <td>140.00</td>\n",
              "      <td>Data Not Found</td>\n",
              "      <td>Data Not Found</td>\n",
              "    </tr>\n",
              "    <tr>\n",
              "      <th>23562</th>\n",
              "      <td>https://www.netmeds.com/prescriptions/wounsol-...</td>\n",
              "      <td>Wounsol Ointment 15gm</td>\n",
              "      <td>Wound</td>\n",
              "      <td>Povidone Iodine+Sucralfate</td>\n",
              "      <td>Theia Health Care Pvt Ltd</td>\n",
              "      <td>75.00</td>\n",
              "      <td>Data Not Found</td>\n",
              "      <td>Data Not Found</td>\n",
              "    </tr>\n",
              "    <tr>\n",
              "      <th>23563</th>\n",
              "      <td>https://www.netmeds.com/prescriptions/zerosept...</td>\n",
              "      <td>ZEROSEPTIC Ointment 15gm</td>\n",
              "      <td>Wound</td>\n",
              "      <td>POVIDINE IODINE 5 %</td>\n",
              "      <td>Helios Pharmaceuticals</td>\n",
              "      <td>75.00</td>\n",
              "      <td>Data Not Found</td>\n",
              "      <td>Data Not Found</td>\n",
              "    </tr>\n",
              "    <tr>\n",
              "      <th>23564</th>\n",
              "      <td>https://www.netmeds.com/prescriptions/ds-gold-...</td>\n",
              "      <td>DS GOLD ANTI AGEING Cream 50gm</td>\n",
              "      <td>Wrinkle/Anti</td>\n",
              "      <td>SKINCARE PREPARATION</td>\n",
              "      <td>Adonis Laboratories Pvt Ltd</td>\n",
              "      <td>999.00</td>\n",
              "      <td>Data Not Found</td>\n",
              "      <td>Data Not Found</td>\n",
              "    </tr>\n",
              "    <tr>\n",
              "      <th>23565</th>\n",
              "      <td>https://www.netmeds.com/prescriptions/versa-ge...</td>\n",
              "      <td>Versa Gel 30gm</td>\n",
              "      <td>Wrinkle/Anti</td>\n",
              "      <td>Cosmetics</td>\n",
              "      <td>Hibiscus Pharmaceuticals Pvt Ltd</td>\n",
              "      <td>79.50</td>\n",
              "      <td>Data Not Found</td>\n",
              "      <td>Data Not Found</td>\n",
              "    </tr>\n",
              "  </tbody>\n",
              "</table>\n",
              "<p>23566 rows × 8 columns</p>\n",
              "</div>"
            ],
            "text/plain": [
              "                                            Medicine URL  ...                                       Side Effects\n",
              "0      https://www.netmeds.com/prescriptions/atrest-1...  ...  depression, suicidal thoughts or actions, neur...\n",
              "1      https://www.netmeds.com/prescriptions/atrest-2...  ...  depression, suicidal thoughts or actions, neur...\n",
              "2      https://www.netmeds.com/prescriptions/capnea-i...  ...  serious intestinal disease with bloody stools ...\n",
              "3      https://www.netmeds.com/prescriptions/cognix-1...  ...                                     Data Not Found\n",
              "4      https://www.netmeds.com/prescriptions/a-cn-gel...  ...  dry skin, redness of the skin, skin burning or...\n",
              "...                                                  ...  ...                                                ...\n",
              "23561  https://www.netmeds.com/prescriptions/wound-fi...  ...                                     Data Not Found\n",
              "23562  https://www.netmeds.com/prescriptions/wounsol-...  ...                                     Data Not Found\n",
              "23563  https://www.netmeds.com/prescriptions/zerosept...  ...                                     Data Not Found\n",
              "23564  https://www.netmeds.com/prescriptions/ds-gold-...  ...                                     Data Not Found\n",
              "23565  https://www.netmeds.com/prescriptions/versa-ge...  ...                                     Data Not Found\n",
              "\n",
              "[23566 rows x 8 columns]"
            ]
          },
          "metadata": {
            "tags": []
          },
          "execution_count": 19
        }
      ]
    },
    {
      "cell_type": "code",
      "metadata": {
        "id": "Zd53UMG7lae_",
        "outputId": "b4bbc3f6-d420-4855-d1af-140fa823a2d1",
        "colab": {
          "base_uri": "https://localhost:8080/",
          "height": 34
        }
      },
      "source": [
        "len(df[df['Side Effects']=='Data Not Found'])"
      ],
      "execution_count": 20,
      "outputs": [
        {
          "output_type": "execute_result",
          "data": {
            "text/plain": [
              "11920"
            ]
          },
          "metadata": {
            "tags": []
          },
          "execution_count": 20
        }
      ]
    },
    {
      "cell_type": "code",
      "metadata": {
        "id": "1MY-T64blecx",
        "outputId": "3b501f0c-5a9a-42ab-edc5-8cb0274ae016",
        "colab": {
          "base_uri": "https://localhost:8080/",
          "height": 168
        }
      },
      "source": [
        "df.iloc[0]"
      ],
      "execution_count": 21,
      "outputs": [
        {
          "output_type": "execute_result",
          "data": {
            "text/plain": [
              "Medicine URL     https://www.netmeds.com/prescriptions/atrest-1...\n",
              "Medicine Name                            Atrest 12.5mg Tablet 10'S\n",
              "Category                                                      ADHD\n",
              "Composition                                   TETRABENAZINE 12.5MG\n",
              "Manufacturer                       Centaur Pharmaceuticals Pvt Ltd\n",
              "MRP                                                         146.01\n",
              "Uses             ATREST 12.5MG is used in the treatment of the ...\n",
              "Side Effects     depression, suicidal thoughts or actions, neur...\n",
              "Name: 0, dtype: object"
            ]
          },
          "metadata": {
            "tags": []
          },
          "execution_count": 21
        }
      ]
    },
    {
      "cell_type": "code",
      "metadata": {
        "id": "EBsdP4Wwm3dO"
      },
      "source": [
        ""
      ],
      "execution_count": null,
      "outputs": []
    }
  ]
}