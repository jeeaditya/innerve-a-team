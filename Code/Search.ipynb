{
  "nbformat": 4,
  "nbformat_minor": 0,
  "metadata": {
    "colab": {
      "name": "Search.ipynb",
      "provenance": [],
      "collapsed_sections": [],
      "toc_visible": true
    },
    "kernelspec": {
      "display_name": "Python 3",
      "name": "python3"
    }
  },
  "cells": [
    {
      "cell_type": "markdown",
      "metadata": {
        "id": "yPV4ex0JgV0d"
      },
      "source": [
        "#SEARCH USING COSINE SIMILARITY"
      ]
    },
    {
      "cell_type": "code",
      "metadata": {
        "id": "Go_dFzkceTRU"
      },
      "source": [
        "import pandas as pd\n",
        "import numpy as np\n",
        "import os \n",
        "import re\n",
        "import operator\n",
        "import nltk \n",
        "import string\n",
        "from nltk.tokenize import word_tokenize\n",
        "from nltk import pos_tag\n",
        "from nltk.corpus import stopwords\n",
        "from nltk.stem import WordNetLemmatizer\n",
        "from collections import defaultdict\n",
        "from nltk.corpus import wordnet as wn\n",
        "from sklearn.feature_extraction.text import TfidfVectorizer"
      ],
      "execution_count": 3,
      "outputs": []
    },
    {
      "cell_type": "code",
      "metadata": {
        "id": "grCIxVCOifQX",
        "outputId": "2461238f-1a97-4877-e017-029d4c70113c",
        "colab": {
          "base_uri": "https://localhost:8080/",
          "height": 202
        }
      },
      "source": [
        "nltk.download('punkt')\n",
        "nltk.download('wordnet')\n",
        "nltk.download('averaged_perceptron_tagger')\n",
        "nltk.download('stopwords')"
      ],
      "execution_count": 4,
      "outputs": [
        {
          "output_type": "stream",
          "text": [
            "[nltk_data] Downloading package punkt to /root/nltk_data...\n",
            "[nltk_data]   Package punkt is already up-to-date!\n",
            "[nltk_data] Downloading package wordnet to /root/nltk_data...\n",
            "[nltk_data]   Package wordnet is already up-to-date!\n",
            "[nltk_data] Downloading package averaged_perceptron_tagger to\n",
            "[nltk_data]     /root/nltk_data...\n",
            "[nltk_data]   Package averaged_perceptron_tagger is already up-to-\n",
            "[nltk_data]       date!\n",
            "[nltk_data] Downloading package stopwords to /root/nltk_data...\n",
            "[nltk_data]   Package stopwords is already up-to-date!\n"
          ],
          "name": "stdout"
        },
        {
          "output_type": "execute_result",
          "data": {
            "text/plain": [
              "True"
            ]
          },
          "metadata": {
            "tags": []
          },
          "execution_count": 4
        }
      ]
    },
    {
      "cell_type": "code",
      "metadata": {
        "id": "jawtnh_geV0P",
        "outputId": "c5bdda65-c524-466d-9e2d-2510ef698e04",
        "colab": {
          "base_uri": "https://localhost:8080/",
          "height": 872
        }
      },
      "source": [
        "df = pd.read_csv('medicine_database_detailed.csv', engine='python', index_col =0)\n",
        "df"
      ],
      "execution_count": 9,
      "outputs": [
        {
          "output_type": "execute_result",
          "data": {
            "text/html": [
              "<div>\n",
              "<style scoped>\n",
              "    .dataframe tbody tr th:only-of-type {\n",
              "        vertical-align: middle;\n",
              "    }\n",
              "\n",
              "    .dataframe tbody tr th {\n",
              "        vertical-align: top;\n",
              "    }\n",
              "\n",
              "    .dataframe thead th {\n",
              "        text-align: right;\n",
              "    }\n",
              "</style>\n",
              "<table border=\"1\" class=\"dataframe\">\n",
              "  <thead>\n",
              "    <tr style=\"text-align: right;\">\n",
              "      <th></th>\n",
              "      <th>Medicine URL</th>\n",
              "      <th>Medicine Name</th>\n",
              "      <th>Category</th>\n",
              "      <th>Composition</th>\n",
              "      <th>Manufacturer</th>\n",
              "      <th>MRP</th>\n",
              "      <th>Uses</th>\n",
              "      <th>Side Effects</th>\n",
              "    </tr>\n",
              "  </thead>\n",
              "  <tbody>\n",
              "    <tr>\n",
              "      <th>0</th>\n",
              "      <td>https://www.netmeds.com/prescriptions/atrest-1...</td>\n",
              "      <td>Atrest 12.5mg Tablet 10'S</td>\n",
              "      <td>ADHD</td>\n",
              "      <td>TETRABENAZINE 12.5MG</td>\n",
              "      <td>Centaur Pharmaceuticals Pvt Ltd</td>\n",
              "      <td>146.01</td>\n",
              "      <td>ATREST 12.5MG is used in the treatment of the ...</td>\n",
              "      <td>depression, suicidal thoughts or actions, neur...</td>\n",
              "    </tr>\n",
              "    <tr>\n",
              "      <th>1</th>\n",
              "      <td>https://www.netmeds.com/prescriptions/atrest-2...</td>\n",
              "      <td>Atrest 25mg Tablet 10'S</td>\n",
              "      <td>ADHD</td>\n",
              "      <td>TETRABENAZINE 25MG</td>\n",
              "      <td>Centaur Pharmaceuticals Pvt Ltd</td>\n",
              "      <td>261.49</td>\n",
              "      <td>ATREST 25MG is used in the treatment of the in...</td>\n",
              "      <td>depression, suicidal thoughts or actions, neur...</td>\n",
              "    </tr>\n",
              "    <tr>\n",
              "      <th>2</th>\n",
              "      <td>https://www.netmeds.com/prescriptions/capnea-i...</td>\n",
              "      <td>Capnea Injection 1ml</td>\n",
              "      <td>ADHD</td>\n",
              "      <td>Caffeine Citrate 20 MG</td>\n",
              "      <td>Cipla Ltd</td>\n",
              "      <td>272.25</td>\n",
              "      <td>It is used in the treatment of interrupted bre...</td>\n",
              "      <td>serious intestinal disease with bloody stools ...</td>\n",
              "    </tr>\n",
              "    <tr>\n",
              "      <th>3</th>\n",
              "      <td>https://www.netmeds.com/prescriptions/cognix-1...</td>\n",
              "      <td>COGNIX 120mg Tablet 10's</td>\n",
              "      <td>ADHD</td>\n",
              "      <td>GINKGO BILOBA 120 mg</td>\n",
              "      <td>Eris Lifesciences Ltd</td>\n",
              "      <td>128.70</td>\n",
              "      <td>Data Not Found</td>\n",
              "      <td>Data Not Found</td>\n",
              "    </tr>\n",
              "    <tr>\n",
              "      <th>4</th>\n",
              "      <td>https://www.netmeds.com/prescriptions/a-cn-gel...</td>\n",
              "      <td>A CN Gel(Topical) 20gm</td>\n",
              "      <td>Acne</td>\n",
              "      <td>CLINDAMYCIN 1%+NICOTINAMIDE 4%</td>\n",
              "      <td>Eskon Pharma</td>\n",
              "      <td>135.00</td>\n",
              "      <td>mild to moderate acne (spots)</td>\n",
              "      <td>dry skin, redness of the skin, skin burning or...</td>\n",
              "    </tr>\n",
              "    <tr>\n",
              "      <th>...</th>\n",
              "      <td>...</td>\n",
              "      <td>...</td>\n",
              "      <td>...</td>\n",
              "      <td>...</td>\n",
              "      <td>...</td>\n",
              "      <td>...</td>\n",
              "      <td>...</td>\n",
              "      <td>...</td>\n",
              "    </tr>\n",
              "    <tr>\n",
              "      <th>23561</th>\n",
              "      <td>https://www.netmeds.com/prescriptions/wound-fi...</td>\n",
              "      <td>Wound Fix Solution 100ml</td>\n",
              "      <td>Wound</td>\n",
              "      <td>HYPOCHLOROUS ACID 0.006%+OXIDIZED WATER 99.97%</td>\n",
              "      <td>Strides Shasun Ltd</td>\n",
              "      <td>140.00</td>\n",
              "      <td>Data Not Found</td>\n",
              "      <td>Data Not Found</td>\n",
              "    </tr>\n",
              "    <tr>\n",
              "      <th>23562</th>\n",
              "      <td>https://www.netmeds.com/prescriptions/wounsol-...</td>\n",
              "      <td>Wounsol Ointment 15gm</td>\n",
              "      <td>Wound</td>\n",
              "      <td>Povidone Iodine+Sucralfate</td>\n",
              "      <td>Theia Health Care Pvt Ltd</td>\n",
              "      <td>75.00</td>\n",
              "      <td>Data Not Found</td>\n",
              "      <td>Data Not Found</td>\n",
              "    </tr>\n",
              "    <tr>\n",
              "      <th>23563</th>\n",
              "      <td>https://www.netmeds.com/prescriptions/zerosept...</td>\n",
              "      <td>ZEROSEPTIC Ointment 15gm</td>\n",
              "      <td>Wound</td>\n",
              "      <td>POVIDINE IODINE 5 %</td>\n",
              "      <td>Helios Pharmaceuticals</td>\n",
              "      <td>75.00</td>\n",
              "      <td>Data Not Found</td>\n",
              "      <td>Data Not Found</td>\n",
              "    </tr>\n",
              "    <tr>\n",
              "      <th>23564</th>\n",
              "      <td>https://www.netmeds.com/prescriptions/ds-gold-...</td>\n",
              "      <td>DS GOLD ANTI AGEING Cream 50gm</td>\n",
              "      <td>Wrinkle/Anti</td>\n",
              "      <td>SKINCARE PREPARATION</td>\n",
              "      <td>Adonis Laboratories Pvt Ltd</td>\n",
              "      <td>999.00</td>\n",
              "      <td>Data Not Found</td>\n",
              "      <td>Data Not Found</td>\n",
              "    </tr>\n",
              "    <tr>\n",
              "      <th>23565</th>\n",
              "      <td>https://www.netmeds.com/prescriptions/versa-ge...</td>\n",
              "      <td>Versa Gel 30gm</td>\n",
              "      <td>Wrinkle/Anti</td>\n",
              "      <td>Cosmetics</td>\n",
              "      <td>Hibiscus Pharmaceuticals Pvt Ltd</td>\n",
              "      <td>79.50</td>\n",
              "      <td>Data Not Found</td>\n",
              "      <td>Data Not Found</td>\n",
              "    </tr>\n",
              "  </tbody>\n",
              "</table>\n",
              "<p>23566 rows × 8 columns</p>\n",
              "</div>"
            ],
            "text/plain": [
              "                                            Medicine URL  ...                                       Side Effects\n",
              "0      https://www.netmeds.com/prescriptions/atrest-1...  ...  depression, suicidal thoughts or actions, neur...\n",
              "1      https://www.netmeds.com/prescriptions/atrest-2...  ...  depression, suicidal thoughts or actions, neur...\n",
              "2      https://www.netmeds.com/prescriptions/capnea-i...  ...  serious intestinal disease with bloody stools ...\n",
              "3      https://www.netmeds.com/prescriptions/cognix-1...  ...                                     Data Not Found\n",
              "4      https://www.netmeds.com/prescriptions/a-cn-gel...  ...  dry skin, redness of the skin, skin burning or...\n",
              "...                                                  ...  ...                                                ...\n",
              "23561  https://www.netmeds.com/prescriptions/wound-fi...  ...                                     Data Not Found\n",
              "23562  https://www.netmeds.com/prescriptions/wounsol-...  ...                                     Data Not Found\n",
              "23563  https://www.netmeds.com/prescriptions/zerosept...  ...                                     Data Not Found\n",
              "23564  https://www.netmeds.com/prescriptions/ds-gold-...  ...                                     Data Not Found\n",
              "23565  https://www.netmeds.com/prescriptions/versa-ge...  ...                                     Data Not Found\n",
              "\n",
              "[23566 rows x 8 columns]"
            ]
          },
          "metadata": {
            "tags": []
          },
          "execution_count": 9
        }
      ]
    },
    {
      "cell_type": "code",
      "metadata": {
        "id": "44KJ2kO9fvss"
      },
      "source": [
        "df1 = df.copy()"
      ],
      "execution_count": 10,
      "outputs": []
    },
    {
      "cell_type": "code",
      "metadata": {
        "id": "_jMz3eUje7yK"
      },
      "source": [
        "df1['text'] = df1['Medicine Name'] + ' ' +\tdf1['Category']\t+ ' ' + df1['Composition'] + ' ' +\tdf1['Manufacturer']"
      ],
      "execution_count": 11,
      "outputs": []
    },
    {
      "cell_type": "code",
      "metadata": {
        "id": "gf0hGecFfF42"
      },
      "source": [
        "df1 = df1.dropna()"
      ],
      "execution_count": 12,
      "outputs": []
    },
    {
      "cell_type": "code",
      "metadata": {
        "id": "ouI7E9WtfGs8",
        "outputId": "3cc012bb-1b13-4682-834f-e637090fe869",
        "colab": {
          "base_uri": "https://localhost:8080/",
          "height": 34
        }
      },
      "source": [
        "df1.shape"
      ],
      "execution_count": 13,
      "outputs": [
        {
          "output_type": "execute_result",
          "data": {
            "text/plain": [
              "(22998, 9)"
            ]
          },
          "metadata": {
            "tags": []
          },
          "execution_count": 13
        }
      ]
    },
    {
      "cell_type": "code",
      "metadata": {
        "id": "ELf78sJXf2ea"
      },
      "source": [
        "df1 = df1.reset_index()"
      ],
      "execution_count": 14,
      "outputs": []
    },
    {
      "cell_type": "code",
      "metadata": {
        "id": "98n5Tvoif6RB"
      },
      "source": [
        "df1['cleaned_text'] = df1['text'].apply(lambda x: re.sub('(\\d+(\\.\\d+)?)', r' \\1 ', str(x)))"
      ],
      "execution_count": 15,
      "outputs": []
    },
    {
      "cell_type": "code",
      "metadata": {
        "id": "qvqCL95bgArt",
        "outputId": "e811c8de-028c-4307-a59c-e5df71c41215",
        "colab": {
          "base_uri": "https://localhost:8080/",
          "height": 1000
        }
      },
      "source": [
        "df1"
      ],
      "execution_count": 16,
      "outputs": [
        {
          "output_type": "execute_result",
          "data": {
            "text/html": [
              "<div>\n",
              "<style scoped>\n",
              "    .dataframe tbody tr th:only-of-type {\n",
              "        vertical-align: middle;\n",
              "    }\n",
              "\n",
              "    .dataframe tbody tr th {\n",
              "        vertical-align: top;\n",
              "    }\n",
              "\n",
              "    .dataframe thead th {\n",
              "        text-align: right;\n",
              "    }\n",
              "</style>\n",
              "<table border=\"1\" class=\"dataframe\">\n",
              "  <thead>\n",
              "    <tr style=\"text-align: right;\">\n",
              "      <th></th>\n",
              "      <th>index</th>\n",
              "      <th>Medicine URL</th>\n",
              "      <th>Medicine Name</th>\n",
              "      <th>Category</th>\n",
              "      <th>Composition</th>\n",
              "      <th>Manufacturer</th>\n",
              "      <th>MRP</th>\n",
              "      <th>Uses</th>\n",
              "      <th>Side Effects</th>\n",
              "      <th>text</th>\n",
              "      <th>cleaned_text</th>\n",
              "    </tr>\n",
              "  </thead>\n",
              "  <tbody>\n",
              "    <tr>\n",
              "      <th>0</th>\n",
              "      <td>0</td>\n",
              "      <td>https://www.netmeds.com/prescriptions/atrest-1...</td>\n",
              "      <td>Atrest 12.5mg Tablet 10'S</td>\n",
              "      <td>ADHD</td>\n",
              "      <td>TETRABENAZINE 12.5MG</td>\n",
              "      <td>Centaur Pharmaceuticals Pvt Ltd</td>\n",
              "      <td>146.01</td>\n",
              "      <td>ATREST 12.5MG is used in the treatment of the ...</td>\n",
              "      <td>depression, suicidal thoughts or actions, neur...</td>\n",
              "      <td>Atrest 12.5mg Tablet 10'S ADHD TETRABENAZINE 1...</td>\n",
              "      <td>Atrest  12.5 mg Tablet  10 'S ADHD TETRABENAZI...</td>\n",
              "    </tr>\n",
              "    <tr>\n",
              "      <th>1</th>\n",
              "      <td>1</td>\n",
              "      <td>https://www.netmeds.com/prescriptions/atrest-2...</td>\n",
              "      <td>Atrest 25mg Tablet 10'S</td>\n",
              "      <td>ADHD</td>\n",
              "      <td>TETRABENAZINE 25MG</td>\n",
              "      <td>Centaur Pharmaceuticals Pvt Ltd</td>\n",
              "      <td>261.49</td>\n",
              "      <td>ATREST 25MG is used in the treatment of the in...</td>\n",
              "      <td>depression, suicidal thoughts or actions, neur...</td>\n",
              "      <td>Atrest 25mg Tablet 10'S ADHD TETRABENAZINE 25M...</td>\n",
              "      <td>Atrest  25 mg Tablet  10 'S ADHD TETRABENAZINE...</td>\n",
              "    </tr>\n",
              "    <tr>\n",
              "      <th>2</th>\n",
              "      <td>2</td>\n",
              "      <td>https://www.netmeds.com/prescriptions/capnea-i...</td>\n",
              "      <td>Capnea Injection 1ml</td>\n",
              "      <td>ADHD</td>\n",
              "      <td>Caffeine Citrate 20 MG</td>\n",
              "      <td>Cipla Ltd</td>\n",
              "      <td>272.25</td>\n",
              "      <td>It is used in the treatment of interrupted bre...</td>\n",
              "      <td>serious intestinal disease with bloody stools ...</td>\n",
              "      <td>Capnea Injection 1ml ADHD Caffeine Citrate 20 ...</td>\n",
              "      <td>Capnea Injection  1 ml ADHD Caffeine Citrate  ...</td>\n",
              "    </tr>\n",
              "    <tr>\n",
              "      <th>3</th>\n",
              "      <td>3</td>\n",
              "      <td>https://www.netmeds.com/prescriptions/cognix-1...</td>\n",
              "      <td>COGNIX 120mg Tablet 10's</td>\n",
              "      <td>ADHD</td>\n",
              "      <td>GINKGO BILOBA 120 mg</td>\n",
              "      <td>Eris Lifesciences Ltd</td>\n",
              "      <td>128.70</td>\n",
              "      <td>Data Not Found</td>\n",
              "      <td>Data Not Found</td>\n",
              "      <td>COGNIX 120mg Tablet 10's ADHD GINKGO BILOBA 12...</td>\n",
              "      <td>COGNIX  120 mg Tablet  10 's ADHD GINKGO BILOB...</td>\n",
              "    </tr>\n",
              "    <tr>\n",
              "      <th>4</th>\n",
              "      <td>4</td>\n",
              "      <td>https://www.netmeds.com/prescriptions/a-cn-gel...</td>\n",
              "      <td>A CN Gel(Topical) 20gm</td>\n",
              "      <td>Acne</td>\n",
              "      <td>CLINDAMYCIN 1%+NICOTINAMIDE 4%</td>\n",
              "      <td>Eskon Pharma</td>\n",
              "      <td>135.00</td>\n",
              "      <td>mild to moderate acne (spots)</td>\n",
              "      <td>dry skin, redness of the skin, skin burning or...</td>\n",
              "      <td>A CN Gel(Topical) 20gm Acne CLINDAMYCIN 1%+NIC...</td>\n",
              "      <td>A CN Gel(Topical)  20 gm Acne CLINDAMYCIN  1 %...</td>\n",
              "    </tr>\n",
              "    <tr>\n",
              "      <th>...</th>\n",
              "      <td>...</td>\n",
              "      <td>...</td>\n",
              "      <td>...</td>\n",
              "      <td>...</td>\n",
              "      <td>...</td>\n",
              "      <td>...</td>\n",
              "      <td>...</td>\n",
              "      <td>...</td>\n",
              "      <td>...</td>\n",
              "      <td>...</td>\n",
              "      <td>...</td>\n",
              "    </tr>\n",
              "    <tr>\n",
              "      <th>22993</th>\n",
              "      <td>23561</td>\n",
              "      <td>https://www.netmeds.com/prescriptions/wound-fi...</td>\n",
              "      <td>Wound Fix Solution 100ml</td>\n",
              "      <td>Wound</td>\n",
              "      <td>HYPOCHLOROUS ACID 0.006%+OXIDIZED WATER 99.97%</td>\n",
              "      <td>Strides Shasun Ltd</td>\n",
              "      <td>140.00</td>\n",
              "      <td>Data Not Found</td>\n",
              "      <td>Data Not Found</td>\n",
              "      <td>Wound Fix Solution 100ml Wound HYPOCHLOROUS AC...</td>\n",
              "      <td>Wound Fix Solution  100 ml Wound HYPOCHLOROUS ...</td>\n",
              "    </tr>\n",
              "    <tr>\n",
              "      <th>22994</th>\n",
              "      <td>23562</td>\n",
              "      <td>https://www.netmeds.com/prescriptions/wounsol-...</td>\n",
              "      <td>Wounsol Ointment 15gm</td>\n",
              "      <td>Wound</td>\n",
              "      <td>Povidone Iodine+Sucralfate</td>\n",
              "      <td>Theia Health Care Pvt Ltd</td>\n",
              "      <td>75.00</td>\n",
              "      <td>Data Not Found</td>\n",
              "      <td>Data Not Found</td>\n",
              "      <td>Wounsol Ointment 15gm Wound Povidone Iodine+Su...</td>\n",
              "      <td>Wounsol Ointment  15 gm Wound Povidone Iodine+...</td>\n",
              "    </tr>\n",
              "    <tr>\n",
              "      <th>22995</th>\n",
              "      <td>23563</td>\n",
              "      <td>https://www.netmeds.com/prescriptions/zerosept...</td>\n",
              "      <td>ZEROSEPTIC Ointment 15gm</td>\n",
              "      <td>Wound</td>\n",
              "      <td>POVIDINE IODINE 5 %</td>\n",
              "      <td>Helios Pharmaceuticals</td>\n",
              "      <td>75.00</td>\n",
              "      <td>Data Not Found</td>\n",
              "      <td>Data Not Found</td>\n",
              "      <td>ZEROSEPTIC Ointment 15gm Wound POVIDINE IODINE...</td>\n",
              "      <td>ZEROSEPTIC Ointment  15 gm Wound POVIDINE IODI...</td>\n",
              "    </tr>\n",
              "    <tr>\n",
              "      <th>22996</th>\n",
              "      <td>23564</td>\n",
              "      <td>https://www.netmeds.com/prescriptions/ds-gold-...</td>\n",
              "      <td>DS GOLD ANTI AGEING Cream 50gm</td>\n",
              "      <td>Wrinkle/Anti</td>\n",
              "      <td>SKINCARE PREPARATION</td>\n",
              "      <td>Adonis Laboratories Pvt Ltd</td>\n",
              "      <td>999.00</td>\n",
              "      <td>Data Not Found</td>\n",
              "      <td>Data Not Found</td>\n",
              "      <td>DS GOLD ANTI AGEING Cream 50gm Wrinkle/Anti SK...</td>\n",
              "      <td>DS GOLD ANTI AGEING Cream  50 gm Wrinkle/Anti ...</td>\n",
              "    </tr>\n",
              "    <tr>\n",
              "      <th>22997</th>\n",
              "      <td>23565</td>\n",
              "      <td>https://www.netmeds.com/prescriptions/versa-ge...</td>\n",
              "      <td>Versa Gel 30gm</td>\n",
              "      <td>Wrinkle/Anti</td>\n",
              "      <td>Cosmetics</td>\n",
              "      <td>Hibiscus Pharmaceuticals Pvt Ltd</td>\n",
              "      <td>79.50</td>\n",
              "      <td>Data Not Found</td>\n",
              "      <td>Data Not Found</td>\n",
              "      <td>Versa Gel 30gm Wrinkle/Anti Cosmetics Hibiscus...</td>\n",
              "      <td>Versa Gel  30 gm Wrinkle/Anti Cosmetics Hibisc...</td>\n",
              "    </tr>\n",
              "  </tbody>\n",
              "</table>\n",
              "<p>22998 rows × 11 columns</p>\n",
              "</div>"
            ],
            "text/plain": [
              "       index  ...                                       cleaned_text\n",
              "0          0  ...  Atrest  12.5 mg Tablet  10 'S ADHD TETRABENAZI...\n",
              "1          1  ...  Atrest  25 mg Tablet  10 'S ADHD TETRABENAZINE...\n",
              "2          2  ...  Capnea Injection  1 ml ADHD Caffeine Citrate  ...\n",
              "3          3  ...  COGNIX  120 mg Tablet  10 's ADHD GINKGO BILOB...\n",
              "4          4  ...  A CN Gel(Topical)  20 gm Acne CLINDAMYCIN  1 %...\n",
              "...      ...  ...                                                ...\n",
              "22993  23561  ...  Wound Fix Solution  100 ml Wound HYPOCHLOROUS ...\n",
              "22994  23562  ...  Wounsol Ointment  15 gm Wound Povidone Iodine+...\n",
              "22995  23563  ...  ZEROSEPTIC Ointment  15 gm Wound POVIDINE IODI...\n",
              "22996  23564  ...  DS GOLD ANTI AGEING Cream  50 gm Wrinkle/Anti ...\n",
              "22997  23565  ...  Versa Gel  30 gm Wrinkle/Anti Cosmetics Hibisc...\n",
              "\n",
              "[22998 rows x 11 columns]"
            ]
          },
          "metadata": {
            "tags": []
          },
          "execution_count": 16
        }
      ]
    },
    {
      "cell_type": "code",
      "metadata": {
        "id": "2MkhmwssgBmA",
        "outputId": "7fc46a5f-29e0-4d24-c2f0-07d32daf9c02",
        "colab": {
          "base_uri": "https://localhost:8080/",
          "height": 35
        }
      },
      "source": [
        "df1.iloc[0,10]"
      ],
      "execution_count": 17,
      "outputs": [
        {
          "output_type": "execute_result",
          "data": {
            "application/vnd.google.colaboratory.intrinsic+json": {
              "type": "string"
            },
            "text/plain": [
              "\"Atrest  12.5 mg Tablet  10 'S ADHD TETRABENAZINE  12.5 MG Centaur Pharmaceuticals Pvt Ltd\""
            ]
          },
          "metadata": {
            "tags": []
          },
          "execution_count": 17
        }
      ]
    },
    {
      "cell_type": "code",
      "metadata": {
        "id": "MhXMIEu0gQ2m"
      },
      "source": [
        "df1['cleaned_text'] = df1['cleaned_text'].apply(lambda x: str(x))\n",
        "df1['cleaned_text'] = df1['cleaned_text'].apply(lambda x: x.lower())\n",
        "df1['cleaned_text'] = df1['cleaned_text'].apply(lambda x: x.translate(str.maketrans('', '', string.punctuation)))"
      ],
      "execution_count": 18,
      "outputs": []
    },
    {
      "cell_type": "code",
      "metadata": {
        "id": "eZBl9xiSiqN3"
      },
      "source": [
        "def wordLemmatizer(data):\n",
        "    tag_map = defaultdict(lambda : wn.NOUN)\n",
        "    tag_map['J'] = wn.ADJ\n",
        "    tag_map['V'] = wn.VERB\n",
        "    tag_map['R'] = wn.ADV\n",
        "    file_clean_k =pd.DataFrame()\n",
        "    for index,entry in enumerate(data):\n",
        "        \n",
        "        # Declaring Empty List to store the words that follow the rules for this step\n",
        "        Final_words = []\n",
        "        # Initializing WordNetLemmatizer()\n",
        "        word_Lemmatized = WordNetLemmatizer()\n",
        "        # pos_tag function below will provide the 'tag' i.e if the word is Noun(N) or Verb(V) or something else.\n",
        "        for word, tag in pos_tag(entry):\n",
        "            # Below condition is to check for Stop words and consider only alphabets\n",
        "            if len(word)>1 and word not in stopwords.words('english') and word.isalpha():\n",
        "                word_Final = word_Lemmatized.lemmatize(word,tag_map[tag[0]])\n",
        "                Final_words.append(word_Final)\n",
        "            # The final processed set of words for each iteration will be stored in 'text_final'\n",
        "                file_clean_k.loc[index,'Keyword_final'] = str(Final_words)\n",
        "                file_clean_k.loc[index,'Keyword_final'] = str(Final_words)\n",
        "                file_clean_k=file_clean_k.replace(to_replace =\"\\[.\", value = '', regex = True)\n",
        "                file_clean_k=file_clean_k.replace(to_replace =\"'\", value = '', regex = True)\n",
        "                file_clean_k=file_clean_k.replace(to_replace =\" \", value = '', regex = True)\n",
        "                file_clean_k=file_clean_k.replace(to_replace ='\\]', value = '', regex = True)\n",
        "    return file_clean_k"
      ],
      "execution_count": 19,
      "outputs": []
    },
    {
      "cell_type": "code",
      "metadata": {
        "id": "oXj8u4bGhRfR",
        "outputId": "e265d3f2-bbdd-4351-9b3f-076d75711fd3",
        "colab": {
          "base_uri": "https://localhost:8080/",
          "height": 218
        }
      },
      "source": [
        "df1['cleaned_text']"
      ],
      "execution_count": 20,
      "outputs": [
        {
          "output_type": "execute_result",
          "data": {
            "text/plain": [
              "0        atrest  125 mg tablet  10 s adhd tetrabenazine...\n",
              "1        atrest  25 mg tablet  10 s adhd tetrabenazine ...\n",
              "2        capnea injection  1 ml adhd caffeine citrate  ...\n",
              "3        cognix  120 mg tablet  10 s adhd ginkgo biloba...\n",
              "4        a cn geltopical  20 gm acne clindamycin  1 nic...\n",
              "                               ...                        \n",
              "22993    wound fix solution  100 ml wound hypochlorous ...\n",
              "22994    wounsol ointment  15 gm wound povidone iodines...\n",
              "22995    zeroseptic ointment  15 gm wound povidine iodi...\n",
              "22996    ds gold anti ageing cream  50 gm wrinkleanti s...\n",
              "22997    versa gel  30 gm wrinkleanti cosmetics hibiscu...\n",
              "Name: cleaned_text, Length: 22998, dtype: object"
            ]
          },
          "metadata": {
            "tags": []
          },
          "execution_count": 20
        }
      ]
    },
    {
      "cell_type": "code",
      "metadata": {
        "id": "cJkGkhaygX6-"
      },
      "source": [
        "medicine = list(df1['cleaned_text'])"
      ],
      "execution_count": 21,
      "outputs": []
    },
    {
      "cell_type": "code",
      "metadata": {
        "id": "qb5MOUxXhb7z"
      },
      "source": [
        "from sklearn.feature_extraction.text import TfidfVectorizer\n",
        "import operator\n",
        "## Create Vocabulary\n",
        "vocabulary = set()\n",
        "for doc in medicine:\n",
        "    vocabulary.update(doc.split(' '))\n",
        "vocabulary = list(vocabulary)\n",
        "# Intializating the tfIdf model\n",
        "tfidf = TfidfVectorizer(vocabulary=vocabulary)\n",
        "# Fit the TfIdf model\n",
        "tfidf.fit(medicine)\n",
        "# Transform the TfIdf model\n",
        "tfidf_tran=tfidf.transform(medicine)"
      ],
      "execution_count": 22,
      "outputs": []
    },
    {
      "cell_type": "code",
      "metadata": {
        "id": "peX1CA21grSz"
      },
      "source": [
        "def gen_vector_T(tokens):\n",
        "  Q = np.zeros((len(vocabulary)))    \n",
        "  x= tfidf.transform(tokens)\n",
        "  #print(tokens[0].split(','))\n",
        "  for token in tokens[0].split(','):\n",
        "      #print(token)\n",
        "      try:\n",
        "          ind = vocabulary.index(token)\n",
        "          Q[ind]  = x[0, tfidf.vocabulary_[token]]\n",
        "      except:\n",
        "          pass\n",
        "  return Q"
      ],
      "execution_count": 23,
      "outputs": []
    },
    {
      "cell_type": "code",
      "metadata": {
        "id": "y6ytNf1EhwBH"
      },
      "source": [
        "def cosine_sim(a, b):\n",
        "    cos_sim = np.dot(a, b) / (np.linalg.norm(a)*np.linalg.norm(b))\n",
        "    return cos_sim"
      ],
      "execution_count": 24,
      "outputs": []
    },
    {
      "cell_type": "code",
      "metadata": {
        "id": "HHUc83Wfh6ip"
      },
      "source": [
        "def cosine_similarity_T(k, query):\n",
        "    preprocessed_query = re.sub(\"\\W+\", \" \", query).strip()\n",
        "    tokens = word_tokenize(str(preprocessed_query))\n",
        "    q_df = pd.DataFrame(columns=['q_clean'])\n",
        "    q_df.loc[0,'q_clean'] =tokens\n",
        "    q_df['q_clean'] =wordLemmatizer(q_df.q_clean)\n",
        "    d_cosines = []\n",
        "    \n",
        "    query_vector = gen_vector_T(q_df['q_clean'])\n",
        "    for d in tfidf_tran.A:\n",
        "        d_cosines.append(cosine_sim(query_vector, d))\n",
        "                    \n",
        "    out = np.array(d_cosines).argsort()[-k:][::-1]\n",
        "    #print(\"\")\n",
        "    d_cosines.sort()\n",
        "    a = pd.DataFrame()\n",
        "    for i,index in enumerate(out):\n",
        "        #a.loc[i,'index'] = str(index)\n",
        "        a.loc[i,'Medicine'] = df1['Medicine Name'][index]\n",
        "        a.loc[i, 'Manufacturer'] = df1['Manufacturer'][index]\n",
        "        a.loc[i,'Uses'] = df1['Uses'][index]\n",
        "        a.loc[i,'Side Effects'] = df1['Side Effects'][index]\n",
        "    for j,simScore in enumerate(d_cosines[-k:][::-1]):\n",
        "        a.loc[j,'Score'] = simScore\n",
        "    return a"
      ],
      "execution_count": 25,
      "outputs": []
    },
    {
      "cell_type": "code",
      "metadata": {
        "id": "LPHmQJ0Cm7AQ",
        "outputId": "c767577d-4a5a-454e-9a1f-76bf0882d32e",
        "colab": {
          "base_uri": "https://localhost:8080/",
          "height": 102
        }
      },
      "source": [
        "text = '''['aa',\n",
        " '',\n",
        " 't 4',\n",
        " '',\n",
        " '      ',\n",
        " '   ',\n",
        " '  ',\n",
        " '  ',\n",
        " ' ',\n",
        " '',\n",
        " 'a tian ice : — k & en',\n",
        " 'iii. 3 ae ; ‘ i nl is',\n",
        " 'atig. Lic. No. : M/786/201 7 B22 No. Middlo Carrip,',\n",
        " 'Net-10, East District,',\n",
        " '',\n",
        " ', Tei',\n",
        " '@® - Registered tracemark. Gangtok, Sikkim-737 135',\n",
        " '',\n",
        " '3 tan',\n",
        " '',\n",
        " '4)',\n",
        " '',\n",
        " '\\\\',\n",
        " ']',\n",
        " 'Wy',\n",
        " '',\n",
        " '   ',\n",
        " '',\n",
        " '®',\n",
        " '',\n",
        " 'ds',\n",
        " 'y',\n",
        " '',\n",
        " 'te',\n",
        " 'ow',\n",
        " 'oo Each film-coated tablet contains : | ee',\n",
        " '»” 625 mg Calcium Carbonate from an [Not to be Sold by leas',\n",
        " 'Organic Source (Powdered Oyster Shell). sangre the Presuiinton | a,',\n",
        " '~~ equivalent to Elemental Calcium 250 mg Of a Registered MECCA ex',\n",
        " 'ee Vitamin D3 1.P. 125 IU |Prattitions; es ©',\n",
        " ' —€a - Appropriate overages of vitamin added . 7 ee , ar a a Ag',\n",
        " '“to compensatetor.loss on storagece~ a POI T° SOLS.',\n",
        " '\"ve = P ANAAAR ge. vv TORRENT. Zo',\n",
        " '',\n",
        " \"> : lets ' SP et eS 3 : . oe ! ae\",\n",
        " '~ Dosage : As:diteptest-by.the Physi: pHARMACEUTICALS LTD:',\n",
        " '',\n",
        " 'sy',\n",
        " '> ~',\n",
        " '\\\\ ah 8',\n",
        " '. > aN',\n",
        " 'dl “',\n",
        " 'q',\n",
        " '~',\n",
        " '',\n",
        " ' ',\n",
        " '  ',\n",
        " '   ',\n",
        " '  ',\n",
        " ' ',\n",
        " ' ',\n",
        " ' ',\n",
        " ' ',\n",
        " '    ',\n",
        " ' ',\n",
        " ' ',\n",
        " '',\n",
        " '  ',\n",
        " '   ',\n",
        " '',\n",
        " '% a % . rw',\n",
        " 'é‘ Yd',\n",
        " '; “ mp” MY',\n",
        " 'eS as r ,',\n",
        " 'Va |',\n",
        " '',\n",
        " '~, ~~ io',\n",
        " 'i VN',\n",
        " 'vw ™S',\n",
        " '',\n",
        " '  ',\n",
        " '',\n",
        " ' ',\n",
        " '       ',\n",
        " '\\x0c']'''\n",
        "#word_tokenize(text)\n",
        "text = re.findall('\\w+', text)\n",
        "text = ' '.join(text)\n",
        "text"
      ],
      "execution_count": 26,
      "outputs": [
        {
          "output_type": "execute_result",
          "data": {
            "application/vnd.google.colaboratory.intrinsic+json": {
              "type": "string"
            },
            "text/plain": [
              "'aa t 4 a tian ice k en iii 3 ae i nl is atig Lic No M 786 201 7 B22 No Middlo Carrip Net 10 East District Tei Registered tracemark Gangtok Sikkim 737 135 3 tan 4 Wy ds y te ow oo Each film coated tablet contains ee 625 mg Calcium Carbonate from an Not to be Sold by leas Organic Source Powdered Oyster Shell sangre the Presuiinton a equivalent to Elemental Calcium 250 mg Of a Registered MECCA ex ee Vitamin D3 1 P 125 IU Prattitions es a Appropriate overages of vitamin added 7 ee ar a a Ag to compensatetor loss on storagece a POI T SOLS ve P ANAAAR ge vv TORRENT Zo lets SP et eS 3 oe ae Dosage As diteptest by the Physi pHARMACEUTICALS LTD sy ah 8 aN dl q a rw é Yd mp MY eS as r Va io i VN vw S'"
            ]
          },
          "metadata": {
            "tags": []
          },
          "execution_count": 26
        }
      ]
    },
    {
      "cell_type": "markdown",
      "metadata": {
        "id": "xKrHs20liXxw"
      },
      "source": [
        "#TEST HERE"
      ]
    },
    {
      "cell_type": "code",
      "metadata": {
        "id": "ru4tNnjoh8mJ",
        "outputId": "62c0db7a-c527-42e4-dbcc-fcfb218a9c97",
        "colab": {
          "base_uri": "https://localhost:8080/",
          "height": 494
        }
      },
      "source": [
        "cosine_similarity_T(10, 'ranitidine')"
      ],
      "execution_count": 27,
      "outputs": [
        {
          "output_type": "execute_result",
          "data": {
            "text/html": [
              "<div>\n",
              "<style scoped>\n",
              "    .dataframe tbody tr th:only-of-type {\n",
              "        vertical-align: middle;\n",
              "    }\n",
              "\n",
              "    .dataframe tbody tr th {\n",
              "        vertical-align: top;\n",
              "    }\n",
              "\n",
              "    .dataframe thead th {\n",
              "        text-align: right;\n",
              "    }\n",
              "</style>\n",
              "<table border=\"1\" class=\"dataframe\">\n",
              "  <thead>\n",
              "    <tr style=\"text-align: right;\">\n",
              "      <th></th>\n",
              "      <th>Medicine</th>\n",
              "      <th>Manufacturer</th>\n",
              "      <th>Uses</th>\n",
              "      <th>Side Effects</th>\n",
              "      <th>Score</th>\n",
              "    </tr>\n",
              "  </thead>\n",
              "  <tbody>\n",
              "    <tr>\n",
              "      <th>0</th>\n",
              "      <td>Aciloc Injection 2ml</td>\n",
              "      <td>Cadila Pharmaceuticals Ltd</td>\n",
              "      <td>It is used to heal and stop ulcers from bleedi...</td>\n",
              "      <td>any kind of skin rash or “hives”, flaking skin...</td>\n",
              "      <td>0.519403</td>\n",
              "    </tr>\n",
              "    <tr>\n",
              "      <th>1</th>\n",
              "      <td>Ranitin Injection 5X2ml</td>\n",
              "      <td>Torrent Pharmaceuticals Ltd</td>\n",
              "      <td>It is used to heal and stop ulcers from bleedi...</td>\n",
              "      <td>any kind of skin rash or “hives”, flaking skin...</td>\n",
              "      <td>0.494715</td>\n",
              "    </tr>\n",
              "    <tr>\n",
              "      <th>2</th>\n",
              "      <td>Rantac Injection 5X2ml</td>\n",
              "      <td>J.B.Chemicals &amp; Pharmaceuticals Ltd</td>\n",
              "      <td>It is used to heal and stop ulcers from bleedi...</td>\n",
              "      <td>any kind of skin rash or “hives”, flaking skin...</td>\n",
              "      <td>0.490381</td>\n",
              "    </tr>\n",
              "    <tr>\n",
              "      <th>3</th>\n",
              "      <td>Rantac Syrup 100ml</td>\n",
              "      <td>J.B.Chemicals &amp; Pharmaceuticals Ltd</td>\n",
              "      <td>It is used to heal and stop ulcers from bleedi...</td>\n",
              "      <td>allergic reactions such as rash, itching or hi...</td>\n",
              "      <td>0.468942</td>\n",
              "    </tr>\n",
              "    <tr>\n",
              "      <th>4</th>\n",
              "      <td>ANTAC Injection 2ml</td>\n",
              "      <td>Zee Laboratories Ltd</td>\n",
              "      <td>Data Not Found</td>\n",
              "      <td>Data Not Found</td>\n",
              "      <td>0.464341</td>\n",
              "    </tr>\n",
              "    <tr>\n",
              "      <th>5</th>\n",
              "      <td>Rantop Syrup 100ml</td>\n",
              "      <td>Aristo Pharmaceuticals Pvt Ltd</td>\n",
              "      <td>It is used to heal and stop ulcers from bleedi...</td>\n",
              "      <td>allergic reactions such as rash, itching or hi...</td>\n",
              "      <td>0.455115</td>\n",
              "    </tr>\n",
              "    <tr>\n",
              "      <th>6</th>\n",
              "      <td>R Loc Forte Tablet 15'S</td>\n",
              "      <td>Cadila Healthcare Ltd (Zydus)</td>\n",
              "      <td>It is used to heal and stop ulcers from bleedi...</td>\n",
              "      <td>allergic reactions include - rash, itching or ...</td>\n",
              "      <td>0.454361</td>\n",
              "    </tr>\n",
              "    <tr>\n",
              "      <th>7</th>\n",
              "      <td>H2Loc 40mg Injection 2ml</td>\n",
              "      <td>Torrent Pharmaceuticals Ltd</td>\n",
              "      <td>It is used to heal and stop ulcers from bleedi...</td>\n",
              "      <td>any kind of skin rash or “hives”, flaking skin...</td>\n",
              "      <td>0.449125</td>\n",
              "    </tr>\n",
              "    <tr>\n",
              "      <th>8</th>\n",
              "      <td>Aciloc 150mg Tablet 30'S</td>\n",
              "      <td>Cadila Pharmaceuticals Ltd</td>\n",
              "      <td>It is used to heal and stop ulcers from bleedi...</td>\n",
              "      <td>allergic reactions include - rash, itching or ...</td>\n",
              "      <td>0.444077</td>\n",
              "    </tr>\n",
              "    <tr>\n",
              "      <th>9</th>\n",
              "      <td>Bintac Injection 2ml</td>\n",
              "      <td>Biochem Pharmaceutical Industries Ltd</td>\n",
              "      <td>It is used to heal and stop ulcers from bleedi...</td>\n",
              "      <td>any kind of skin rash or “hives”, flaking skin...</td>\n",
              "      <td>0.437085</td>\n",
              "    </tr>\n",
              "  </tbody>\n",
              "</table>\n",
              "</div>"
            ],
            "text/plain": [
              "                   Medicine  ...     Score\n",
              "0      Aciloc Injection 2ml  ...  0.519403\n",
              "1   Ranitin Injection 5X2ml  ...  0.494715\n",
              "2    Rantac Injection 5X2ml  ...  0.490381\n",
              "3        Rantac Syrup 100ml  ...  0.468942\n",
              "4       ANTAC Injection 2ml  ...  0.464341\n",
              "5        Rantop Syrup 100ml  ...  0.455115\n",
              "6   R Loc Forte Tablet 15'S  ...  0.454361\n",
              "7  H2Loc 40mg Injection 2ml  ...  0.449125\n",
              "8  Aciloc 150mg Tablet 30'S  ...  0.444077\n",
              "9      Bintac Injection 2ml  ...  0.437085\n",
              "\n",
              "[10 rows x 5 columns]"
            ]
          },
          "metadata": {
            "tags": []
          },
          "execution_count": 27
        }
      ]
    },
    {
      "cell_type": "code",
      "metadata": {
        "id": "rM0PSvrQiLXK"
      },
      "source": [
        "#  "
      ],
      "execution_count": null,
      "outputs": []
    },
    {
      "cell_type": "code",
      "metadata": {
        "id": "O1gD2sHq7zDf"
      },
      "source": [
        ""
      ],
      "execution_count": null,
      "outputs": []
    }
  ]
}